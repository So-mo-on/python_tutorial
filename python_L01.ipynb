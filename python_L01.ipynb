{
  "nbformat": 4,
  "nbformat_minor": 0,
  "metadata": {
    "colab": {
      "provenance": []
    },
    "kernelspec": {
      "name": "python3",
      "display_name": "Python 3"
    },
    "language_info": {
      "name": "python"
    }
  },
  "cells": [
    {
      "cell_type": "markdown",
      "source": [
        "#Hello world!"
      ],
      "metadata": {
        "id": "zWrD0u4WScR1"
      }
    },
    {
      "cell_type": "code",
      "source": [
        "print('Hello world!')"
      ],
      "metadata": {
        "colab": {
          "base_uri": "https://localhost:8080/"
        },
        "id": "N5FZ9WtfShrO",
        "outputId": "d83e65af-0dd3-4a4e-922e-46321918243a"
      },
      "execution_count": null,
      "outputs": [
        {
          "output_type": "stream",
          "name": "stdout",
          "text": [
            "Hello world!\n"
          ]
        }
      ]
    },
    {
      "cell_type": "code",
      "source": [
        "a = 'Hello world ^_^'\n",
        "print(a)\n",
        "\n",
        "# It is a comment!\n",
        "print(a, a)\n",
        "print(\"\")\n",
        "print(1, a, 2, a)"
      ],
      "metadata": {
        "colab": {
          "base_uri": "https://localhost:8080/"
        },
        "id": "t9Vc-r8iSuRO",
        "outputId": "6a26484a-be11-420d-d03a-57d98f520664"
      },
      "execution_count": null,
      "outputs": [
        {
          "output_type": "stream",
          "name": "stdout",
          "text": [
            "Hello world ^_^\n",
            "Hello world ^_^ Hello world ^_^\n",
            "\n",
            "1 Hello world ^_^ 2 Hello world ^_^\n"
          ]
        }
      ]
    },
    {
      "cell_type": "markdown",
      "source": [
        "#For"
      ],
      "metadata": {
        "id": "D5oVruhKUCn2"
      }
    },
    {
      "cell_type": "code",
      "source": [
        "# Let's start with the for loop!\n",
        "# i is an iterator and range(5) defines the range of iteration\n",
        "for i in range(5): # don't forget the colon (:)\n",
        "    # The indent (you can press tab) is necessary for each line inside the for loop\n",
        "    print(i)"
      ],
      "metadata": {
        "id": "2KvFlWdCaxSh"
      },
      "execution_count": null,
      "outputs": []
    },
    {
      "cell_type": "code",
      "source": [
        "# b is a Python list, you can call the first object in the list like this: b[0]\n",
        "b = ['indent', ':', 'don\\'t forget the space!']\n",
        "\n",
        "# Iteration elements in a list start from zero!\n",
        "print(b[0]) # First element\n",
        "print(b[1]) # Second element\n",
        "print(b[2]) # Third element\n",
        "\n",
        "print(len(b)) # len(b) is the length of this list\n",
        "\n",
        "# Iterate through elements in the list\n",
        "for i in b:\n",
        "    print(i)"
      ],
      "metadata": {
        "id": "492lgo_-cYqn"
      },
      "execution_count": null,
      "outputs": []
    },
    {
      "cell_type": "code",
      "source": [
        "# Starting point is 0 and endpoint is 4\n",
        "for i in range(5):\n",
        "    print(i)\n",
        "\n",
        "# Using step in range (start, stop, step)\n",
        "for i in range(1, 5, 2):\n",
        "    print(i)\n",
        "\n",
        "# Nested loops\n",
        "for i in range(3):\n",
        "    for j in range(2):\n",
        "        print(i, j)"
      ],
      "metadata": {
        "id": "IQVGunb7c-v1"
      },
      "execution_count": null,
      "outputs": []
    },
    {
      "cell_type": "code",
      "source": [
        "# How to save results of a loop in a list?\n",
        "# I want to have a list of double values of numbers from 1 to 5\n",
        "\n",
        "# 1- Make an empty list:\n",
        "a = []\n",
        "\n",
        "# 2- Define a for loop:\n",
        "for i in range(1, 6):\n",
        "    # Add a new value to the list in each iteration\n",
        "    a = a + [i * 2]\n",
        "\n",
        "print(a)"
      ],
      "metadata": {
        "id": "3usg0TcLdB79"
      },
      "execution_count": null,
      "outputs": []
    },
    {
      "cell_type": "code",
      "source": [
        "# An alternative way\n",
        "\n",
        "# 1- Make an empty list:\n",
        "a = []\n",
        "\n",
        "# 2- Define a for loop:\n",
        "for i in range(1, 6):\n",
        "    # Add a new value to the list in each iteration\n",
        "    a.append(i * 2)\n",
        "\n",
        "print(a)"
      ],
      "metadata": {
        "id": "GM5GSWm-dGSF"
      },
      "execution_count": null,
      "outputs": []
    },
    {
      "cell_type": "markdown",
      "source": [
        "Debug!"
      ],
      "metadata": {
        "id": "0ukZphltZNHe"
      }
    },
    {
      "cell_type": "code",
      "source": [
        "# for i in range(4)\n",
        "#   print(i+2)"
      ],
      "metadata": {
        "id": "LEbiwqJtY9jK"
      },
      "execution_count": null,
      "outputs": []
    },
    {
      "cell_type": "code",
      "source": [
        "# for i in range(2):\n",
        "#   for j in range(2):\n",
        "#   print(i, j)\n"
      ],
      "metadata": {
        "id": "JZsVnxY2Zdcf"
      },
      "execution_count": null,
      "outputs": []
    },
    {
      "cell_type": "markdown",
      "source": [
        "#if"
      ],
      "metadata": {
        "id": "A0eP6Meac9rC"
      }
    },
    {
      "cell_type": "code",
      "source": [
        "# The structure of if is pretty similar to the for loop, you need an indent and colon!\n",
        "a = 'hello'\n",
        "\n",
        "if a == 'hello':\n",
        "    print(a)\n",
        "else:\n",
        "    print('wrong message')"
      ],
      "metadata": {
        "colab": {
          "base_uri": "https://localhost:8080/"
        },
        "id": "VGVwhPIkc_BL",
        "outputId": "a871f296-0e54-4992-df88-198ab2448d16"
      },
      "execution_count": null,
      "outputs": [
        {
          "output_type": "stream",
          "name": "stdout",
          "text": [
            "hello\n"
          ]
        }
      ]
    },
    {
      "cell_type": "markdown",
      "source": [
        "There is a difference between '=' and '==' in Python.\n",
        "\\\n",
        "You use '=' when you want to assign a value to a variable:\n",
        "\\\n",
        "a = 3\\\n",
        "Now variable 'a' contains value 3.\\\n",
        "You use '==' to check the equality of two variables:\\\n",
        "a = 3\\\n",
        "a == 4\\\n",
        "Since 'a' is not equal to 4, you will get False"
      ],
      "metadata": {
        "id": "Zvy3Q2_7eeCR"
      }
    },
    {
      "cell_type": "code",
      "source": [
        "a = 3\n",
        "print(a == 4) # False"
      ],
      "metadata": {
        "colab": {
          "base_uri": "https://localhost:8080/"
        },
        "id": "9-ZTgx_9fTpb",
        "outputId": "67ff0c07-8cc7-4ee8-862e-507c8b8e437c"
      },
      "execution_count": null,
      "outputs": [
        {
          "output_type": "stream",
          "name": "stdout",
          "text": [
            "False\n"
          ]
        }
      ]
    },
    {
      "cell_type": "code",
      "source": [
        "print(a == 3) # True"
      ],
      "metadata": {
        "id": "k6291QmUetTp"
      },
      "execution_count": null,
      "outputs": []
    },
    {
      "cell_type": "code",
      "source": [
        "a = 4\n",
        "\n",
        "if a != 3: # '!=' is the not equal to operator\n",
        "    print('a is not 3')\n",
        "else: # Change the value of 'a' to 3 to check this part.\n",
        "    print(a)"
      ],
      "metadata": {
        "colab": {
          "base_uri": "https://localhost:8080/"
        },
        "id": "o9LnWeFmevcX",
        "outputId": "e54500b6-0667-4046-8663-2588ceaa9812"
      },
      "execution_count": null,
      "outputs": [
        {
          "output_type": "stream",
          "name": "stdout",
          "text": [
            "a is not 3\n"
          ]
        }
      ]
    },
    {
      "cell_type": "markdown",
      "source": [
        "#while"
      ],
      "metadata": {
        "id": "T9KKuroufrvH"
      }
    },
    {
      "cell_type": "code",
      "source": [
        "# While something is true, keep going. Combination of if and for with the same structure.\n",
        "i = 0\n",
        "\n",
        "while i < 5:\n",
        "    print(i)\n",
        "    i = i + 1"
      ],
      "metadata": {
        "colab": {
          "base_uri": "https://localhost:8080/"
        },
        "id": "Kkhb4y2GfeoO",
        "outputId": "3b873c6a-e548-401f-8a0e-c235d4ff2626"
      },
      "execution_count": null,
      "outputs": [
        {
          "output_type": "stream",
          "name": "stdout",
          "text": [
            "0\n",
            "1\n",
            "2\n",
            "3\n",
            "4\n"
          ]
        }
      ]
    },
    {
      "cell_type": "code",
      "source": [
        "for i in range(5):\n",
        "    print(i)\n",
        "    while i < 3:\n",
        "        print(i * 2)\n",
        "        i = i + 1"
      ],
      "metadata": {
        "colab": {
          "base_uri": "https://localhost:8080/"
        },
        "id": "GawEhv_efqSy",
        "outputId": "fc5cffad-ded2-4872-c3c1-f6b2658641f5"
      },
      "execution_count": null,
      "outputs": [
        {
          "output_type": "stream",
          "name": "stdout",
          "text": [
            "0\n",
            "0\n",
            "2\n",
            "4\n",
            "1\n",
            "2\n",
            "4\n",
            "2\n",
            "4\n",
            "3\n",
            "4\n"
          ]
        }
      ]
    },
    {
      "cell_type": "markdown",
      "source": [
        "#question"
      ],
      "metadata": {
        "id": "WzS2yaRLoxRm"
      }
    },
    {
      "cell_type": "markdown",
      "source": [
        "Write a program that takes a number as input and prints whether it is even or odd."
      ],
      "metadata": {
        "id": "2iyZcishpPHV"
      }
    },
    {
      "cell_type": "code",
      "source": [],
      "metadata": {
        "id": "gvvZa4OvoyoC"
      },
      "execution_count": null,
      "outputs": []
    },
    {
      "cell_type": "markdown",
      "source": [
        "Write a program that takes a score (0-100) as input and prints the corresponding grade: A (90-100), B (80-89), C (70-79), D (60-69), or F (below 60)"
      ],
      "metadata": {
        "id": "VPzlADxcpQqj"
      }
    },
    {
      "cell_type": "code",
      "source": [],
      "metadata": {
        "id": "Zm6hyALopX8A"
      },
      "execution_count": null,
      "outputs": []
    },
    {
      "cell_type": "markdown",
      "source": [
        "Write a program that takes three numbers as input and prints the largest one."
      ],
      "metadata": {
        "id": "BxHOucWmpYvO"
      }
    },
    {
      "cell_type": "code",
      "source": [],
      "metadata": {
        "id": "8favlK1fpdJf"
      },
      "execution_count": null,
      "outputs": []
    },
    {
      "cell_type": "markdown",
      "source": [
        "Write a program that prints the multiplication table for numbers from 1 to 10"
      ],
      "metadata": {
        "id": "a31u1mX4pd0e"
      }
    },
    {
      "cell_type": "code",
      "source": [],
      "metadata": {
        "id": "ERwWwGcWpk51"
      },
      "execution_count": null,
      "outputs": []
    },
    {
      "cell_type": "markdown",
      "source": [
        "Write a program that prints all prime numbers between 1 and 100."
      ],
      "metadata": {
        "id": "J8sWxjCDppbN"
      }
    },
    {
      "cell_type": "code",
      "source": [],
      "metadata": {
        "id": "Ip9XaSqFpp8w"
      },
      "execution_count": null,
      "outputs": []
    },
    {
      "cell_type": "markdown",
      "source": [
        "Create a guessing game where the user has to guess a number between 1 and 100. The program should keep asking the user for a guess until they get it right."
      ],
      "metadata": {
        "id": "i8fy3gktpwlB"
      }
    },
    {
      "cell_type": "code",
      "source": [],
      "metadata": {
        "id": "sCqcIq_9pw_7"
      },
      "execution_count": null,
      "outputs": []
    },
    {
      "cell_type": "markdown",
      "source": [
        "Write a program that prints the numbers from 1 to 100. But for multiples of three, print \"Fizz\" instead of the number, and for the multiples of five, print \"Buzz\". For numbers which are multiples of both three and five, print \"FizzBuzz\"."
      ],
      "metadata": {
        "id": "tF43u2n2qNfg"
      }
    },
    {
      "cell_type": "code",
      "source": [],
      "metadata": {
        "id": "z-XbrESdqOIb"
      },
      "execution_count": null,
      "outputs": []
    },
    {
      "cell_type": "markdown",
      "source": [
        "#Solution"
      ],
      "metadata": {
        "id": "5vg0ANISl6sK"
      }
    },
    {
      "cell_type": "code",
      "source": [
        "# Write a program that takes a number as input and prints whether it is even or odd.\n",
        "number = int(input(\"Enter a number: \"))\n",
        "if number % 2 == 0:\n",
        "    print(f\"{number} is even\")\n",
        "else:\n",
        "    print(f\"{number} is odd\")\n"
      ],
      "metadata": {
        "id": "afY6rIVVl760"
      },
      "execution_count": null,
      "outputs": []
    },
    {
      "cell_type": "code",
      "source": [
        "# Write a program that takes a score (0-100) as input and prints the corresponding grade:\n",
        "# A (90-100), B (80-89), C (70-79), D (60-69), or F (below 60).\n",
        "score = int(input(\"Enter a score (0-100): \"))\n",
        "\n",
        "if 90 <= score <= 100:\n",
        "    grade = 'A'\n",
        "elif 80 <= score < 90:\n",
        "    grade = 'B'\n",
        "elif 70 <= score < 80:\n",
        "    grade = 'C'\n",
        "elif 60 <= score < 70:\n",
        "    grade = 'D'\n",
        "else:\n",
        "    grade = 'F'\n",
        "\n",
        "print(f\"The grade for score {score} is {grade}\")\n"
      ],
      "metadata": {
        "id": "pXIzkZAlmBxS"
      },
      "execution_count": null,
      "outputs": []
    },
    {
      "cell_type": "code",
      "source": [
        "# Write a program that takes three numbers as input and prints the largest one.\n",
        "num1 = float(input(\"Enter first number: \"))\n",
        "num2 = float(input(\"Enter second number: \"))\n",
        "num3 = float(input(\"Enter third number: \"))\n",
        "\n",
        "if num1 >= num2 and num1 >= num3:\n",
        "    largest = num1\n",
        "elif num2 >= num1 and num2 >= num3:\n",
        "    largest = num2\n",
        "else:\n",
        "    largest = num3\n",
        "\n",
        "print(f\"The largest number is {largest}\")\n"
      ],
      "metadata": {
        "id": "hiQB0PFinTyy"
      },
      "execution_count": null,
      "outputs": []
    },
    {
      "cell_type": "code",
      "source": [
        "# Write a program that prints the multiplication table for numbers from 1 to 10.\n",
        "for i in range(1, 11):\n",
        "    for j in range(1, 11):\n",
        "        print(f\"{i} x {j} = {i * j}\")\n",
        "    print(\"\")  # Print a blank line between tables\n"
      ],
      "metadata": {
        "id": "aZ7cuPUynWC7"
      },
      "execution_count": null,
      "outputs": []
    },
    {
      "cell_type": "code",
      "source": [
        "# Write a program that prints all prime numbers between 1 and 100.\n",
        "def is_prime(n):\n",
        "    if n <= 1:\n",
        "        return False\n",
        "    for i in range(2, int(n ** 0.5) + 1):\n",
        "        if n % i == 0:\n",
        "            return False\n",
        "    return True\n",
        "\n",
        "for num in range(1, 101):\n",
        "    if is_prime(num):\n",
        "        print(num)\n"
      ],
      "metadata": {
        "id": "gjNI37eVnXq2"
      },
      "execution_count": null,
      "outputs": []
    },
    {
      "cell_type": "code",
      "source": [
        "# Create a guessing game where the user has to guess a number between 1 and 100.\n",
        "# The program should keep asking the user for a guess until they get it right.\n",
        "import random\n",
        "\n",
        "target_number = random.randint(1, 100)\n",
        "guess = None\n",
        "\n",
        "while guess != target_number:\n",
        "    guess = int(input(\"Guess a number between 1 and 100: \"))\n",
        "    if guess < target_number:\n",
        "        print(\"Too low!\")\n",
        "    elif guess > target_number:\n",
        "        print(\"Too high!\")\n",
        "    else:\n",
        "        print(\"Congratulations! You guessed it right.\")\n"
      ],
      "metadata": {
        "id": "nnJuALBVnZmY"
      },
      "execution_count": null,
      "outputs": []
    },
    {
      "cell_type": "code",
      "source": [
        "# Write a program that prints the numbers from 1 to 100.\n",
        "# But for multiples of three, print \"Fizz\" instead of the number, and for the multiples of five, print \"Buzz\".\n",
        "# For numbers which are multiples of both three and five, print \"FizzBuzz\".\n",
        "for num in range(1, 101):\n",
        "    if num % 3 == 0 and num % 5 == 0:\n",
        "        print(\"FizzBuzz\")\n",
        "    elif num % 3 == 0:\n",
        "        print(\"Fizz\")\n",
        "    elif num % 5 == 0:\n",
        "        print(\"Buzz\")\n",
        "    else:\n",
        "        print(num)\n"
      ],
      "metadata": {
        "id": "V8gB53_lndWS"
      },
      "execution_count": null,
      "outputs": []
    }
  ]
}